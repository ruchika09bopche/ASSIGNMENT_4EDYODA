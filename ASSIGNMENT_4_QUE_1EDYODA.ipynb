{
 "cells": [
  {
   "cell_type": "markdown",
   "id": "86a7adb0",
   "metadata": {},
   "source": [
    "# Q1) Play with Lambda\n",
    "\n",
    "### Write a Python program to create a lambda function that adds 25 to a given number passed in as an argument.\n",
    "\n",
    "sample input: 10\n",
    "\n",
    "sample output: 35\n",
    "\n"
   ]
  },
  {
   "cell_type": "code",
   "execution_count": 6,
   "id": "b24225b4",
   "metadata": {},
   "outputs": [
    {
     "name": "stdout",
     "output_type": "stream",
     "text": [
      "35\n"
     ]
    }
   ],
   "source": [
    "sample_num = 10\n",
    "output_num =lambda sample_num: sample_num+25\n",
    "print(output_num(10))\n"
   ]
  }
 ],
 "metadata": {
  "kernelspec": {
   "display_name": "Python 3 (ipykernel)",
   "language": "python",
   "name": "python3"
  },
  "language_info": {
   "codemirror_mode": {
    "name": "ipython",
    "version": 3
   },
   "file_extension": ".py",
   "mimetype": "text/x-python",
   "name": "python",
   "nbconvert_exporter": "python",
   "pygments_lexer": "ipython3",
   "version": "3.10.2"
  }
 },
 "nbformat": 4,
 "nbformat_minor": 5
}
