{
 "cells": [
  {
   "cell_type": "markdown",
   "id": "e3bb782d",
   "metadata": {},
   "source": [
    "# Q3) Find the Squares from the given List\n",
    "Max Score: 40\n",
    "\n",
    "### Write a Python program to square the elements of a list using map() function.\n",
    "\n",
    "Sample List = [4, 5, 2, 9]\n",
    "\n",
    "Square the elements of the list = [16, 25, 4, 81]\n",
    "\n",
    "\n",
    "\n"
   ]
  },
  {
   "cell_type": "code",
   "execution_count": 2,
   "id": "b7084940",
   "metadata": {},
   "outputs": [
    {
     "name": "stdout",
     "output_type": "stream",
     "text": [
      "[16, 25, 4, 81]\n"
     ]
    }
   ],
   "source": [
    "sample_list = [4, 5, 2, 9]\n",
    "def mul(num):\n",
    "    return num**2\n",
    "x = list(map(mul,sample_list))\n",
    "print(x)"
   ]
  }
 ],
 "metadata": {
  "kernelspec": {
   "display_name": "Python 3 (ipykernel)",
   "language": "python",
   "name": "python3"
  },
  "language_info": {
   "codemirror_mode": {
    "name": "ipython",
    "version": 3
   },
   "file_extension": ".py",
   "mimetype": "text/x-python",
   "name": "python",
   "nbconvert_exporter": "python",
   "pygments_lexer": "ipython3",
   "version": "3.10.2"
  }
 },
 "nbformat": 4,
 "nbformat_minor": 5
}
