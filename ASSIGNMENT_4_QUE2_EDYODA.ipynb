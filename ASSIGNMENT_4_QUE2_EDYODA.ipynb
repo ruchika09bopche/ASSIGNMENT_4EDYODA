{
 "cells": [
  {
   "cell_type": "markdown",
   "id": "d9d338e9",
   "metadata": {},
   "source": [
    "# Q2) Find the way with Maps\n",
    "Max Score: 30\n",
    "\n",
    "#### Write a Python program to triple all numbers of a given list of integers. Use Python map.\n",
    "\n",
    "\n",
    "\n",
    "sample list: [1, 2, 3, 4, 5, 6, 7]\n",
    "\n",
    "Triple of list numbers: [3, 6, 9, 12, 15, 18, 21]\n",
    "\n",
    "\n",
    "\n"
   ]
  },
  {
   "cell_type": "code",
   "execution_count": 3,
   "id": "03aaf119",
   "metadata": {},
   "outputs": [
    {
     "name": "stdout",
     "output_type": "stream",
     "text": [
      "[3, 6, 9, 12, 15, 18, 21]\n"
     ]
    }
   ],
   "source": [
    "sample_list = [1, 2, 3, 4, 5, 6, 7]\n",
    "Triple_of_list_numbers = list(map(lambda i : i*3,sample_list))\n",
    "print(Triple_of_list_numbers)\n",
    "\n"
   ]
  }
 ],
 "metadata": {
  "kernelspec": {
   "display_name": "Python 3 (ipykernel)",
   "language": "python",
   "name": "python3"
  },
  "language_info": {
   "codemirror_mode": {
    "name": "ipython",
    "version": 3
   },
   "file_extension": ".py",
   "mimetype": "text/x-python",
   "name": "python",
   "nbconvert_exporter": "python",
   "pygments_lexer": "ipython3",
   "version": "3.10.2"
  }
 },
 "nbformat": 4,
 "nbformat_minor": 5
}
